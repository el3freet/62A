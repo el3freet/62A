{
 "cells": [
  {
   "cell_type": "code",
   "execution_count": 1,
   "metadata": {},
   "outputs": [],
   "source": [
    "import json \n",
    "import numpy as np \n",
    "import tensorflow as tf\n",
    "from tensorflow import keras\n",
    "from keras.models import Sequential\n",
    "from keras.layers import Dense, Embedding, GlobalAveragePooling1D\n",
    "from keras.preprocessing.text import Tokenizer\n",
    "from keras.preprocessing.sequence import pad_sequences\n",
    "from sklearn.preprocessing import LabelEncoder"
   ]
  },
  {
   "cell_type": "markdown",
   "metadata": {},
   "source": [
    "**data preprocessing**"
   ]
  },
  {
   "cell_type": "code",
   "execution_count": 2,
   "metadata": {},
   "outputs": [],
   "source": [
    "with open(r\"D:\\my_projects\\62A\\Intent.json\") as file:\n",
    "    data = json.load(file)\n",
    "    \n",
    "training_sentences = []\n",
    "training_labels = []\n",
    "labels = []\n",
    "responses = []\n",
    "\n",
    "\n",
    "for intent in data['intents']:\n",
    "    for pattern in intent['text']:\n",
    "        training_sentences.append(pattern)\n",
    "        training_labels.append(intent['intent'])\n",
    "    responses.append(intent['responses'])\n",
    "    \n",
    "    if intent['intent'] not in labels:\n",
    "        labels.append(intent['intent'])\n",
    "        \n",
    "num_classes = len(labels)"
   ]
  },
  {
   "cell_type": "code",
   "execution_count": 3,
   "metadata": {},
   "outputs": [],
   "source": [
    "\n",
    "lbl_encoder = LabelEncoder()\n",
    "lbl_encoder.fit(training_labels)\n",
    "training_labels = lbl_encoder.transform(training_labels)"
   ]
  },
  {
   "cell_type": "code",
   "execution_count": 4,
   "metadata": {},
   "outputs": [],
   "source": [
    "vocab_size = 1000\n",
    "embedding_dim = 16\n",
    "max_len = 20\n",
    "oov_token = \"<OOV>\"\n",
    "\n",
    "tokenizer = Tokenizer(num_words=vocab_size, oov_token=oov_token)\n",
    "tokenizer.fit_on_texts(training_sentences)\n",
    "word_index = tokenizer.word_index\n",
    "sequences = tokenizer.texts_to_sequences(training_sentences)\n",
    "padded_sequences = pad_sequences(sequences, truncating='post', maxlen=max_len)"
   ]
  },
  {
   "cell_type": "markdown",
   "metadata": {},
   "source": [
    "**building the model neural network architecture**"
   ]
  },
  {
   "cell_type": "code",
   "execution_count": 5,
   "metadata": {},
   "outputs": [
    {
     "name": "stdout",
     "output_type": "stream",
     "text": [
      "Model: \"sequential\"\n",
      "_________________________________________________________________\n",
      " Layer (type)                Output Shape              Param #   \n",
      "=================================================================\n",
      " embedding (Embedding)       (None, 20, 16)            16000     \n",
      "                                                                 \n",
      " global_average_pooling1d (G  (None, 16)               0         \n",
      " lobalAveragePooling1D)                                          \n",
      "                                                                 \n",
      " dense (Dense)               (None, 16)                272       \n",
      "                                                                 \n",
      " dense_1 (Dense)             (None, 16)                272       \n",
      "                                                                 \n",
      " dense_2 (Dense)             (None, 22)                374       \n",
      "                                                                 \n",
      "=================================================================\n",
      "Total params: 16,918\n",
      "Trainable params: 16,918\n",
      "Non-trainable params: 0\n",
      "_________________________________________________________________\n"
     ]
    }
   ],
   "source": [
    "model = Sequential()\n",
    "model.add(Embedding(vocab_size, embedding_dim, input_length=max_len))\n",
    "model.add(GlobalAveragePooling1D())\n",
    "model.add(Dense(16, activation='relu'))\n",
    "model.add(Dense(16, activation='relu'))\n",
    "model.add(Dense(num_classes, activation='softmax'))\n",
    "\n",
    "model.compile(loss='sparse_categorical_crossentropy', \n",
    "              optimizer='adam', metrics=['accuracy'])\n",
    "\n",
    "model.summary()"
   ]
  },
  {
   "cell_type": "markdown",
   "metadata": {},
   "source": [
    "**fitting the model**"
   ]
  },
  {
   "cell_type": "code",
   "execution_count": 7,
   "metadata": {},
   "outputs": [
    {
     "name": "stdout",
     "output_type": "stream",
     "text": [
      "Epoch 1/50\n",
      "5/5 [==============================] - 0s 5ms/step - loss: 0.0210 - accuracy: 1.0000\n",
      "Epoch 2/50\n",
      "5/5 [==============================] - 0s 12ms/step - loss: 0.0208 - accuracy: 1.0000\n",
      "Epoch 3/50\n",
      "5/5 [==============================] - 0s 5ms/step - loss: 0.0207 - accuracy: 1.0000\n",
      "Epoch 4/50\n",
      "5/5 [==============================] - 0s 6ms/step - loss: 0.0205 - accuracy: 1.0000\n",
      "Epoch 5/50\n",
      "5/5 [==============================] - 0s 8ms/step - loss: 0.0203 - accuracy: 1.0000\n",
      "Epoch 6/50\n",
      "5/5 [==============================] - 0s 8ms/step - loss: 0.0202 - accuracy: 1.0000\n",
      "Epoch 7/50\n",
      "5/5 [==============================] - 0s 8ms/step - loss: 0.0201 - accuracy: 1.0000\n",
      "Epoch 8/50\n",
      "5/5 [==============================] - 0s 14ms/step - loss: 0.0200 - accuracy: 1.0000\n",
      "Epoch 9/50\n",
      "5/5 [==============================] - 0s 15ms/step - loss: 0.0199 - accuracy: 1.0000\n",
      "Epoch 10/50\n",
      "5/5 [==============================] - 0s 6ms/step - loss: 0.0197 - accuracy: 1.0000\n",
      "Epoch 11/50\n",
      "5/5 [==============================] - 0s 6ms/step - loss: 0.0196 - accuracy: 1.0000\n",
      "Epoch 12/50\n",
      "5/5 [==============================] - 0s 10ms/step - loss: 0.0194 - accuracy: 1.0000\n",
      "Epoch 13/50\n",
      "5/5 [==============================] - 0s 12ms/step - loss: 0.0194 - accuracy: 1.0000\n",
      "Epoch 14/50\n",
      "5/5 [==============================] - 0s 7ms/step - loss: 0.0191 - accuracy: 1.0000\n",
      "Epoch 15/50\n",
      "5/5 [==============================] - 0s 7ms/step - loss: 0.0190 - accuracy: 1.0000\n",
      "Epoch 16/50\n",
      "5/5 [==============================] - 0s 12ms/step - loss: 0.0188 - accuracy: 1.0000\n",
      "Epoch 17/50\n",
      "5/5 [==============================] - 0s 10ms/step - loss: 0.0187 - accuracy: 1.0000\n",
      "Epoch 18/50\n",
      "5/5 [==============================] - 0s 6ms/step - loss: 0.0185 - accuracy: 1.0000\n",
      "Epoch 19/50\n",
      "5/5 [==============================] - 0s 6ms/step - loss: 0.0184 - accuracy: 1.0000\n",
      "Epoch 20/50\n",
      "5/5 [==============================] - 0s 4ms/step - loss: 0.0182 - accuracy: 1.0000\n",
      "Epoch 21/50\n",
      "5/5 [==============================] - 0s 5ms/step - loss: 0.0181 - accuracy: 1.0000\n",
      "Epoch 22/50\n",
      "5/5 [==============================] - 0s 4ms/step - loss: 0.0180 - accuracy: 1.0000\n",
      "Epoch 23/50\n",
      "5/5 [==============================] - 0s 6ms/step - loss: 0.0179 - accuracy: 1.0000\n",
      "Epoch 24/50\n",
      "5/5 [==============================] - 0s 5ms/step - loss: 0.0177 - accuracy: 1.0000\n",
      "Epoch 25/50\n",
      "5/5 [==============================] - 0s 5ms/step - loss: 0.0176 - accuracy: 1.0000\n",
      "Epoch 26/50\n",
      "5/5 [==============================] - 0s 5ms/step - loss: 0.0175 - accuracy: 1.0000\n",
      "Epoch 27/50\n",
      "5/5 [==============================] - 0s 5ms/step - loss: 0.0174 - accuracy: 1.0000\n",
      "Epoch 28/50\n",
      "5/5 [==============================] - 0s 7ms/step - loss: 0.0172 - accuracy: 1.0000\n",
      "Epoch 29/50\n",
      "5/5 [==============================] - 0s 5ms/step - loss: 0.0171 - accuracy: 1.0000\n",
      "Epoch 30/50\n",
      "5/5 [==============================] - 0s 6ms/step - loss: 0.0171 - accuracy: 1.0000\n",
      "Epoch 31/50\n",
      "5/5 [==============================] - 0s 6ms/step - loss: 0.0169 - accuracy: 1.0000\n",
      "Epoch 32/50\n",
      "5/5 [==============================] - 0s 5ms/step - loss: 0.0168 - accuracy: 1.0000\n",
      "Epoch 33/50\n",
      "5/5 [==============================] - 0s 6ms/step - loss: 0.0167 - accuracy: 1.0000\n",
      "Epoch 34/50\n",
      "5/5 [==============================] - 0s 4ms/step - loss: 0.0166 - accuracy: 1.0000\n",
      "Epoch 35/50\n",
      "5/5 [==============================] - 0s 6ms/step - loss: 0.0165 - accuracy: 1.0000\n",
      "Epoch 36/50\n",
      "5/5 [==============================] - 0s 6ms/step - loss: 0.0164 - accuracy: 1.0000\n",
      "Epoch 37/50\n",
      "5/5 [==============================] - 0s 6ms/step - loss: 0.0163 - accuracy: 1.0000\n",
      "Epoch 38/50\n",
      "5/5 [==============================] - 0s 4ms/step - loss: 0.0161 - accuracy: 1.0000\n",
      "Epoch 39/50\n",
      "5/5 [==============================] - 0s 10ms/step - loss: 0.0161 - accuracy: 1.0000\n",
      "Epoch 40/50\n",
      "5/5 [==============================] - 0s 5ms/step - loss: 0.0159 - accuracy: 1.0000\n",
      "Epoch 41/50\n",
      "5/5 [==============================] - 0s 8ms/step - loss: 0.0158 - accuracy: 1.0000\n",
      "Epoch 42/50\n",
      "5/5 [==============================] - 0s 6ms/step - loss: 0.0156 - accuracy: 1.0000\n",
      "Epoch 43/50\n",
      "5/5 [==============================] - 0s 6ms/step - loss: 0.0156 - accuracy: 1.0000\n",
      "Epoch 44/50\n",
      "5/5 [==============================] - 0s 5ms/step - loss: 0.0154 - accuracy: 1.0000\n",
      "Epoch 45/50\n",
      "5/5 [==============================] - 0s 6ms/step - loss: 0.0153 - accuracy: 1.0000\n",
      "Epoch 46/50\n",
      "5/5 [==============================] - 0s 5ms/step - loss: 0.0153 - accuracy: 1.0000\n",
      "Epoch 47/50\n",
      "5/5 [==============================] - 0s 6ms/step - loss: 0.0152 - accuracy: 1.0000\n",
      "Epoch 48/50\n",
      "5/5 [==============================] - 0s 4ms/step - loss: 0.0150 - accuracy: 1.0000\n",
      "Epoch 49/50\n",
      "5/5 [==============================] - 0s 5ms/step - loss: 0.0150 - accuracy: 1.0000\n",
      "Epoch 50/50\n",
      "5/5 [==============================] - 0s 6ms/step - loss: 0.0148 - accuracy: 1.0000\n"
     ]
    }
   ],
   "source": [
    "epochs = 50\n",
    "history = model.fit(padded_sequences, np.array(training_labels), epochs=epochs)"
   ]
  },
  {
   "cell_type": "markdown",
   "metadata": {},
   "source": [
    "**saving the model**"
   ]
  },
  {
   "cell_type": "code",
   "execution_count": 8,
   "metadata": {},
   "outputs": [
    {
     "name": "stderr",
     "output_type": "stream",
     "text": [
      "WARNING:absl:Found untraced functions such as _update_step_xla while saving (showing 1 of 1). These functions will not be directly callable after loading.\n"
     ]
    },
    {
     "name": "stdout",
     "output_type": "stream",
     "text": [
      "INFO:tensorflow:Assets written to: chat_model\\assets\n"
     ]
    },
    {
     "name": "stderr",
     "output_type": "stream",
     "text": [
      "INFO:tensorflow:Assets written to: chat_model\\assets\n"
     ]
    }
   ],
   "source": [
    "model.save(\"chat_model\")\n",
    "\n",
    "import pickle\n",
    "\n",
    "# to save the fitted tokenizer\n",
    "with open('tokenizer.pickle', 'wb') as handle:\n",
    "    pickle.dump(tokenizer, handle, protocol=pickle.HIGHEST_PROTOCOL)\n",
    "    \n",
    "# to save the fitted label encoder\n",
    "with open('label_encoder.pickle', 'wb') as ecn_file:\n",
    "    pickle.dump(lbl_encoder, ecn_file, protocol=pickle.HIGHEST_PROTOCOL)"
   ]
  },
  {
   "cell_type": "code",
   "execution_count": null,
   "metadata": {},
   "outputs": [],
   "source": []
  }
 ],
 "metadata": {
  "kernelspec": {
   "display_name": "Python 3",
   "language": "python",
   "name": "python3"
  },
  "language_info": {
   "codemirror_mode": {
    "name": "ipython",
    "version": 3
   },
   "file_extension": ".py",
   "mimetype": "text/x-python",
   "name": "python",
   "nbconvert_exporter": "python",
   "pygments_lexer": "ipython3",
   "version": "3.11.7"
  }
 },
 "nbformat": 4,
 "nbformat_minor": 2
}
